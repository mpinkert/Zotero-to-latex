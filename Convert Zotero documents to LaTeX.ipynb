{
 "cells": [
  {
   "cell_type": "markdown",
   "metadata": {},
   "source": [
    "   # Converting a Zotero referenced document to LaTeX citations\n",
    "   \n",
    "This script works in conjunction with the \"zotero to latex conversion\" style to to convert Zotero based documents to proper LateX citation, allowing you to avoid the extreme tedium of manually editing hundreds of citations.\n",
    "   \n",
    "The script does this by updating your Zotero library to replace the \"Short title\" keyword with the first word of the title.  This slots into the citation style and makes your citations conform to Zotero's BibTex export \n",
    "\n",
    "## Back up your library first!\n",
    "While I do not know of any bugs, this script does do a mass alteration of your Zotero library and so it is a good idea to [back it up](https://www.zotero.org/support/zotero_data).  \n",
    "\n",
    "This is good practice in general, but it will be very useful if you ever use a citation style that needs a proper \"short title\" keyword."
   ]
  },
  {
   "cell_type": "code",
   "execution_count": null,
   "metadata": {},
   "outputs": [],
   "source": [
    "from pyzotero import zotero"
   ]
  },
  {
   "cell_type": "markdown",
   "metadata": {},
   "source": [
    "You will need to enter in your personal [Zotero library id](https://www.zotero.org/settings/keys) (After 'Your userID for use in API calls is'), the library type ('user' for your personal library, 'group' for a group library'), and an [api key](https://www.zotero.org/settings/keys/new) for this following cell."
   ]
  },
  {
   "cell_type": "code",
   "execution_count": null,
   "metadata": {},
   "outputs": [],
   "source": [
    "# Your personal library id\n",
    "library_id = \n",
    "library_type = 'user'\n",
    "api_key = \n",
    "\n",
    "skip_words = ['a', 'the', 'of', 'in', 'an', 'from']"
   ]
  },
  {
   "cell_type": "code",
   "execution_count": null,
   "metadata": {},
   "outputs": [],
   "source": [
    "zot = zotero.Zotero(library_id, library_type, api_key)"
   ]
  },
  {
   "cell_type": "code",
   "execution_count": null,
   "metadata": {},
   "outputs": [],
   "source": [
    "def shorttitle_to_first_word(item, skip_words):\n",
    "    if 'title' not in item['data'] or 'shortTitle' not in item['data']:\n",
    "        return item\n",
    "        \n",
    "    title_list = item['data']['title'].split()\n",
    "    for i in range(len(title_list)):\n",
    "        if title_list[i].lower() not in skip_words:\n",
    "            short_title = title_list[i]\n",
    "            short_title = short_title.replace(',', '')\n",
    "            short_title = short_title.replace('\\'', '')\n",
    "            short_title = short_title.replace(':', '')\n",
    "            short_tile = short_title.replace('-', '')\n",
    "            item['data']['shortTitle'] = short_title\n",
    "            return item\n",
    "        \n",
    "    item['data']['shortTitle'] = ''\n",
    "    return item"
   ]
  },
  {
   "cell_type": "code",
   "execution_count": null,
   "metadata": {},
   "outputs": [],
   "source": [
    "all_items = zot.everything(zot.items())"
   ]
  },
  {
   "cell_type": "code",
   "execution_count": null,
   "metadata": {},
   "outputs": [],
   "source": [
    "for item in all_items:\n",
    "    if item['data']['itemType'] != 'attachment':\n",
    "        updated_item = shorttitle_to_first_word(item, skip_words)\n",
    "        if item['data']['shortTitle'] == updated_item['data']['shorTitle']:\n",
    "            continue \n",
    "            \n",
    "        zot.update_item(updated_item)\n",
    "            "
   ]
  }
 ],
 "metadata": {
  "kernelspec": {
   "display_name": "Python 3",
   "language": "python",
   "name": "python3"
  },
  "language_info": {
   "codemirror_mode": {
    "name": "ipython",
    "version": 3
   },
   "file_extension": ".py",
   "mimetype": "text/x-python",
   "name": "python",
   "nbconvert_exporter": "python",
   "pygments_lexer": "ipython3",
   "version": "3.7.0"
  }
 },
 "nbformat": 4,
 "nbformat_minor": 2
}
